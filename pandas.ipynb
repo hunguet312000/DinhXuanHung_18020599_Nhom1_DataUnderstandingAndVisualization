{
 "cells": [
  {
   "cell_type": "code",
   "execution_count": null,
   "metadata": {},
   "outputs": [],
   "source": [
    "import pandas as pd\n",
    "import matplotlib.pyplot as plt     \n",
    "import matplotlib.ticker as ticker\n",
    "import numpy as np\n"
   ]
  },
  {
   "cell_type": "code",
   "execution_count": 34,
   "metadata": {},
   "outputs": [],
   "source": [
    "df = pd.read_csv(\"tuoitre1.csv\")\n"
   ]
  },
  {
   "cell_type": "code",
   "execution_count": 35,
   "metadata": {},
   "outputs": [
    {
     "name": "stdout",
     "output_type": "stream",
     "text": [
      "                                                    Link            Category  \\\n",
      "0      https://tuoitre.vn/nam-benh-nhan-962-o-ha-noi-...            Sức khỏe   \n",
      "1      https://tuoitre.vn/63-luong-nuoc-song-cua-viet...             Thời sự   \n",
      "2      https://tuoitre.vn/bieu-tinh-o-thai-lan-keu-go...            Thế giới   \n",
      "3      https://tuoitre.vn/bo-y-te-xac-nhan-2-ca-covid...            Sức khỏe   \n",
      "4      https://tuoitre.vn/benh-nhan-964-duong-tinh-sa...            Sức khỏe   \n",
      "...                                                  ...                 ...   \n",
      "12153  https://tuoitre.vn/de-nghi-cong-nhan-ban-an-me...           Pháp luật   \n",
      "12154  https://tuoitre.vn/rot-nuoc-mat-cha-ung-thu-gi...       Nhịp sống trẻ   \n",
      "12155  https://tuoitre.vn/thua-ba-con-di-hat-1328106.htm  Tuổi Trẻ cuối tuần   \n",
      "12156  https://tuoitre.vn/cac-bac-cu-xep-hang-em-ban-...          Kinh doanh   \n",
      "12157  https://tuoitre.vn/luu-y-khi-dung-thuoc-suc-ho...        Tin mới nhất   \n",
      "\n",
      "                         Time  \\\n",
      "0      17/08/2020 12:27 GMT+7   \n",
      "1      17/08/2020 12:58 GMT+7   \n",
      "2      17/08/2020 11:23 GMT+7   \n",
      "3      17/08/2020 06:22 GMT+7   \n",
      "4      17/08/2020 11:17 GMT+7   \n",
      "...                       ...   \n",
      "12153  24/05/2017 19:14 GMT+7   \n",
      "12154  01/10/2016 12:09 GMT+7   \n",
      "12155  15/06/2017 06:27 GMT+7   \n",
      "12156  31/01/2020 14:47 GMT+7   \n",
      "12157  19/12/2006 14:32 GMT+7   \n",
      "\n",
      "                                                   Title  \\\n",
      "0      Nam bệnh nhân 962 ở Hà Nội làm ngân hàng, đi d...   \n",
      "1      63% lượng nước sông của Việt Nam phụ thuộc các...   \n",
      "2      Biểu tình ở Thái Lan kêu gọi chính phủ từ chức...   \n",
      "3      Bộ Y tế xác nhận 2 ca COVID-19 mới, 1 ca dương...   \n",
      "4      Bệnh nhân 964 dương tính sau 1 tháng về từ Đà ...   \n",
      "...                                                  ...   \n",
      "12153  Đề nghị công nhận bản án mẹ Việt kiện đòi con ...   \n",
      "12154  Rớt nước mắt cha ung thư giai đoạn cuối chờ co...   \n",
      "12155                               Thưa ba, con đi hát!   \n",
      "12156  'Các bác cứ xếp hàng, em bán khẩu trang, nước ...   \n",
      "12157                      Lưu ý khi dùng thuốc súc họng   \n",
      "\n",
      "                                                SubTitle  \\\n",
      "0      TTO - Bệnh nhân 962 - một trong hai ca COVID-1...   \n",
      "1      TTO - Đó là thông tin được Bộ trưởng Nguyễn Xu...   \n",
      "2      TTO - \"Khi màn đêm buông xuống tại tượng đài D...   \n",
      "3      TTO - Sáng nay 17-8, Bộ Y tế xác nhận 2 ca bện...   \n",
      "4      TTO - Ngành y tế Quảng Nam nhận định ca bệnh 9...   \n",
      "...                                                  ...   \n",
      "12153  TTO - Tại phiên họp xem xét công nhận bản án d...   \n",
      "12154  TTO - Được các bác sĩ kéo dài sự sống, anh Cag...   \n",
      "12155  TTCT- Ngày thôi nôi, chiếc mâm đầy ắp đồ nghề ...   \n",
      "12156  TTO - Giữa lúc nhiều quầy thuốc hết hàng, hoặc...   \n",
      "12157  Trừ nước muối, còn các loại thuốc súc miệng - ...   \n",
      "\n",
      "                                                 Content  \\\n",
      "0      Theo thông báo của Bộ Y tế chiều tối 16-8, ca ...   \n",
      "1      Bộ trưởng Nguyễn Xuân Cường - Ảnh: Quochoi.vn\\...   \n",
      "2      Người biểu tình Thái Lan yêu cầu chính phủ từ ...   \n",
      "3      Theo đó, ca bệnh 963 (bệnh nhân 963) là nam, 3...   \n",
      "4      Trung tâm kiểm soát bệnh tật tỉnh Quảng Nam, n...   \n",
      "...                                                  ...   \n",
      "12153  Ngày 24-5, TAND TP.HCM mở phiên họp xem xét cô...   \n",
      "12154  Theo Mirror ngày 30-9, anh Cagney Wenk (26 tuổ...   \n",
      "12155  Đứa bé ấy chính là tôi. Tuổi thơ của tôi là nh...   \n",
      "12156  Khảo sát của phóng viên báo Tuổi trẻ Online và...   \n",
      "12157  Trong họng có rất nhiều loại vi khuẩn thường x...   \n",
      "\n",
      "                                                    Tags  \n",
      "0         covid-19;Bệnh nhân 962;ca bệnh COVID-19;Hà Nội  \n",
      "1      nước ngọt;nước sông;nguồn nước;nước biển dâng;...  \n",
      "2      Thái Lan;biểu tình;Thủ tướng Prayuth Chan-ocha...  \n",
      "3                  covid-19;Đà Nẵng;Hà Nội;dịch covid-19  \n",
      "4      covid-19;Bệnh nhân;Quảng Nam;lây nhiễm;Bệnh nh...  \n",
      "...                                                  ...  \n",
      "12153  Nguyễn Thị Thanh Huyền;mẹ trẻ;tìm con;bà mẹ tr...  \n",
      "12154             cha con;ung thư;Cagney Wenk;video clip  \n",
      "12155  cha con;con đi hát;NSƯT Quế Trân;nghệ sĩ Thanh...  \n",
      "12156  quản lý thị trường;khẩu trang;thị trường khẩu ...  \n",
      "12157                                                NaN  \n",
      "\n",
      "[12158 rows x 7 columns]\n"
     ]
    }
   ],
   "source": [
    "print(df)"
   ]
  },
  {
   "cell_type": "code",
   "execution_count": 36,
   "metadata": {},
   "outputs": [
    {
     "name": "stdout",
     "output_type": "stream",
     "text": [
      "Index(['Link', 'Category', 'Time', 'Title', 'SubTitle', 'Content', 'Tags'], dtype='object')\n"
     ]
    }
   ],
   "source": [
    "print(df.keys())"
   ]
  },
  {
   "cell_type": "code",
   "execution_count": 42,
   "metadata": {},
   "outputs": [
    {
     "data": {
      "text/plain": [
       "Thời sự               2170\n",
       "Thế giới              1335\n",
       "Kinh doanh             989\n",
       "Pháp luật              897\n",
       "Thể thao               884\n",
       "Sức khỏe               862\n",
       "Giáo dục               719\n",
       "Văn hóa                628\n",
       "Nhịp sống trẻ          566\n",
       "Cần biết               504\n",
       "Giải trí               495\n",
       "Công nghệ              459\n",
       "Bạn đọc làm báo        367\n",
       "Du Lịch                362\n",
       "Tin mới nhất           218\n",
       "Khoa học               188\n",
       "Nhà đất                140\n",
       "Giả - Thật              79\n",
       "Xe                      74\n",
       "Tuổi Trẻ cuối tuần      58\n",
       "Media                   38\n",
       "Thư giãn                29\n",
       "Cuộc sống muôn màu      21\n",
       "MeKong Xanh             18\n",
       "Vấn đề - Sự kiện        11\n",
       "Văn hóa - Giải trí      11\n",
       "Bình Dương               5\n",
       "SEA Games 30             1\n",
       "Biết để khỏe             1\n",
       "Name: Category, dtype: int64"
      ]
     },
     "execution_count": 42,
     "metadata": {},
     "output_type": "execute_result"
    }
   ],
   "source": [
    "df[\"Category\"].value_counts()"
   ]
  },
  {
   "cell_type": "code",
   "execution_count": 62,
   "metadata": {},
   "outputs": [
    {
     "data": {
      "image/png": "[encoded data removed]",
      "text/plain": [
       "<Figure size 432x288 with 1 Axes>"
      ]
     },
     "metadata": {},
     "output_type": "display_data"
    }
   ],
   "source": [
    "labels = 'Thời sự', 'Thế giới' , 'Kinh doanh', 'Pháp luật', 'Sức khỏe' , 'Giáo dục', 'Văn hóa', 'Nhịp sống trẻ', 'Khác'\n",
    "sizes = [2170, 1335, 989 , 897, 884, 862, 719, 628, 3644]\n",
    "my_explode = (0.1, 0.1, 0.1 , 0.09 , 0.08, 0.07 , 0.06 , 0.05, 0.15)\n",
    "plt.pie(sizes,labels=labels,autopct='%1.1f%%', startangle=15, shadow = True, explode= my_explode)\n",
    "plt.title('Category')\n",
    "plt.axis('equal')\n",
    "plt.show()"
   ]
  },
  {
   "cell_type": "code",
   "execution_count": 69,
   "metadata": {},
   "outputs": [
    {
     "data": {
      "text/plain": [
       "2020.0    2863\n",
       "2019.0    2596\n",
       "2018.0    1810\n",
       "2017.0    1462\n",
       "2016.0     988\n",
       "2015.0     781\n",
       "2014.0     602\n",
       "2013.0     420\n",
       "2012.0     328\n",
       "2011.0     198\n",
       "2007.0      15\n",
       "2009.0      13\n",
       "2006.0      13\n",
       "2008.0      12\n",
       "2005.0      12\n",
       "2010.0      11\n",
       "2004.0       4\n",
       "2003.0       1\n",
       "Name: year, dtype: int64"
      ]
     },
     "execution_count": 69,
     "metadata": {},
     "output_type": "execute_result"
    }
   ],
   "source": [
    "df['year'] = pd.DatetimeIndex(df['Time']).year\n",
    "df['year'].value_counts()\n",
    "\n"
   ]
  },
  {
   "cell_type": "code",
   "execution_count": 98,
   "metadata": {},
   "outputs": [
    {
     "data": {
      "image/png": "[encoded data removed]",
      "text/plain": [
       "<Figure size 432x288 with 1 Axes>"
      ]
     },
     "metadata": {
      "needs_background": "light"
     },
     "output_type": "display_data"
    }
   ],
   "source": [
    "year = \"2020\" , \"2019\" , \"2018\" , \"2017\" , \"2016\" , \"2015\" , \"Năm khác\"\n",
    "counts_year = [2863, 2596, 1810, 1462, 988, 781, 1629]\n",
    "plt.xlabel(\"Năm\")\n",
    "plt.ylabel(\"Số bài đăng\")\n",
    "plt.suptitle('Tổng số bài đăng qua các năm')\n",
    "\n",
    "for bar in plt.bar(year, counts_year):\n",
    "    plt.text(bar.get_x() + .4,\n",
    "            bar.get_height(),\n",
    "            bar.get_height(),\n",
    "            ha = 'center',\n",
    "            va = 'bottom',\n",
    "            color = 'black')\n",
    "\n"
   ]
  },
  {
   "cell_type": "code",
   "execution_count": null,
   "metadata": {},
   "outputs": [],
   "source": []
  },
  {
   "cell_type": "code",
   "execution_count": null,
   "metadata": {},
   "outputs": [],
   "source": []
  }
 ],
 "metadata": {
  "kernelspec": {
   "display_name": "Python 3",
   "language": "python",
   "name": "python3"
  },
  "language_info": {
   "codemirror_mode": {
    "name": "ipython",
    "version": 3
   },
   "file_extension": ".py",
   "mimetype": "text/x-python",
   "name": "python",
   "nbconvert_exporter": "python",
   "pygments_lexer": "ipython3",
   "version": "3.7.6"
  }
 },
 "nbformat": 4,
 "nbformat_minor": 4
}
